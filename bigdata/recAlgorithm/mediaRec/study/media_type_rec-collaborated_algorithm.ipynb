{
 "cells": [
  {
   "cell_type": "code",
   "execution_count": 1,
   "id": "c43fec95",
   "metadata": {},
   "outputs": [],
   "source": [
    "# import pandas as pd\n",
    "# import numpy as np\n",
    "# import matplotlib.pyplot as plt\n",
    "# import seaborn as sns\n",
    "# from ast import literal_eval\n",
    "# from sklearn.feature_extraction.text import TfidfVectorizer\n",
    "# from sklearn.feature_extraction.text import CountVectorizer\n",
    "# from sklearn.metrics.pairwise import cosine_similarity\n",
    "\n",
    "from sklearn.decomposition import TruncatedSVD\n",
    "from scipy.sparse.linalg import svds\n",
    "\n",
    "import matplotlib.pyplot as plt\n",
    "import seaborn as sns\n",
    "import pandas as pd\n",
    "import numpy as np\n",
    "import warnings\n",
    "warnings.filterwarnings(\"ignore\")"
   ]
  },
  {
   "cell_type": "code",
   "execution_count": 2,
   "id": "e5b59ea1",
   "metadata": {},
   "outputs": [],
   "source": [
    "# csv에서 파일 가져오는 코드\n",
    "# data_gender = pd.read_csv('./데이터전처리/mediaLikeAge_Gender.csv', encoding='cp949', low_memory=False)\n",
    "# data_gender\n",
    "# data_gender.shape\n",
    "# tfidf_vector = TfidfVectorizer()\n",
    "# tfidf_matrix = tfidf_vector.fit_transform(data_gender['gender'] + \" \" + data_gender['age']).toarray()\n",
    "# tfidf_matrix_feature = tfidf_vector.get_feature_names()"
   ]
  },
  {
   "cell_type": "code",
   "execution_count": 3,
   "id": "d5b69773",
   "metadata": {},
   "outputs": [
    {
     "data": {
      "text/html": [
       "<div>\n",
       "<style scoped>\n",
       "    .dataframe tbody tr th:only-of-type {\n",
       "        vertical-align: middle;\n",
       "    }\n",
       "\n",
       "    .dataframe tbody tr th {\n",
       "        vertical-align: top;\n",
       "    }\n",
       "\n",
       "    .dataframe thead th {\n",
       "        text-align: right;\n",
       "    }\n",
       "</style>\n",
       "<table border=\"1\" class=\"dataframe\">\n",
       "  <thead>\n",
       "    <tr style=\"text-align: right;\">\n",
       "      <th></th>\n",
       "      <th>id</th>\n",
       "      <th>gender</th>\n",
       "      <th>total</th>\n",
       "      <th>mediaType_id</th>\n",
       "      <th>mediaSub_id</th>\n",
       "    </tr>\n",
       "  </thead>\n",
       "  <tbody>\n",
       "    <tr>\n",
       "      <th>0</th>\n",
       "      <td>1</td>\n",
       "      <td>0</td>\n",
       "      <td>917.988</td>\n",
       "      <td>1</td>\n",
       "      <td></td>\n",
       "    </tr>\n",
       "    <tr>\n",
       "      <th>1</th>\n",
       "      <td>2</td>\n",
       "      <td>0</td>\n",
       "      <td>956.406</td>\n",
       "      <td>2</td>\n",
       "      <td></td>\n",
       "    </tr>\n",
       "    <tr>\n",
       "      <th>2</th>\n",
       "      <td>3</td>\n",
       "      <td>0</td>\n",
       "      <td>2034.132</td>\n",
       "      <td>3</td>\n",
       "      <td></td>\n",
       "    </tr>\n",
       "    <tr>\n",
       "      <th>3</th>\n",
       "      <td>4</td>\n",
       "      <td>0</td>\n",
       "      <td>212.310</td>\n",
       "      <td>4</td>\n",
       "      <td></td>\n",
       "    </tr>\n",
       "    <tr>\n",
       "      <th>4</th>\n",
       "      <td>5</td>\n",
       "      <td>0</td>\n",
       "      <td>1761.162</td>\n",
       "      <td>5</td>\n",
       "      <td></td>\n",
       "    </tr>\n",
       "  </tbody>\n",
       "</table>\n",
       "</div>"
      ],
      "text/plain": [
       "   id  gender     total  mediaType_id mediaSub_id\n",
       "0   1       0   917.988             1            \n",
       "1   2       0   956.406             2            \n",
       "2   3       0  2034.132             3            \n",
       "3   4       0   212.310             4            \n",
       "4   5       0  1761.162             5            "
      ]
     },
     "execution_count": 3,
     "metadata": {},
     "output_type": "execute_result"
    }
   ],
   "source": [
    "data_gender = pd.read_csv('./데이터전처리/mediaLikeGender.csv', encoding='cp949', low_memory=False, keep_default_na=False)\n",
    "data_age = pd.read_csv('./데이터전처리/mediaLikeAge.csv', encoding='cp949', low_memory=False, keep_default_na=False)\n",
    "data_gender.head()"
   ]
  },
  {
   "cell_type": "code",
   "execution_count": 4,
   "id": "aa1d390b",
   "metadata": {
    "scrolled": true
   },
   "outputs": [
    {
     "data": {
      "text/html": [
       "<div>\n",
       "<style scoped>\n",
       "    .dataframe tbody tr th:only-of-type {\n",
       "        vertical-align: middle;\n",
       "    }\n",
       "\n",
       "    .dataframe tbody tr th {\n",
       "        vertical-align: top;\n",
       "    }\n",
       "\n",
       "    .dataframe thead th {\n",
       "        text-align: right;\n",
       "    }\n",
       "</style>\n",
       "<table border=\"1\" class=\"dataframe\">\n",
       "  <thead>\n",
       "    <tr style=\"text-align: right;\">\n",
       "      <th></th>\n",
       "      <th>id</th>\n",
       "      <th>age</th>\n",
       "      <th>total</th>\n",
       "      <th>mediaType_id</th>\n",
       "      <th>mediaSub_id</th>\n",
       "    </tr>\n",
       "  </thead>\n",
       "  <tbody>\n",
       "    <tr>\n",
       "      <th>0</th>\n",
       "      <td>1</td>\n",
       "      <td>10</td>\n",
       "      <td>202.230</td>\n",
       "      <td>1</td>\n",
       "      <td></td>\n",
       "    </tr>\n",
       "    <tr>\n",
       "      <th>1</th>\n",
       "      <td>2</td>\n",
       "      <td>20</td>\n",
       "      <td>365.400</td>\n",
       "      <td>1</td>\n",
       "      <td></td>\n",
       "    </tr>\n",
       "    <tr>\n",
       "      <th>2</th>\n",
       "      <td>3</td>\n",
       "      <td>30</td>\n",
       "      <td>332.688</td>\n",
       "      <td>1</td>\n",
       "      <td></td>\n",
       "    </tr>\n",
       "    <tr>\n",
       "      <th>3</th>\n",
       "      <td>4</td>\n",
       "      <td>40</td>\n",
       "      <td>399.249</td>\n",
       "      <td>1</td>\n",
       "      <td></td>\n",
       "    </tr>\n",
       "    <tr>\n",
       "      <th>4</th>\n",
       "      <td>5</td>\n",
       "      <td>50</td>\n",
       "      <td>482.904</td>\n",
       "      <td>1</td>\n",
       "      <td></td>\n",
       "    </tr>\n",
       "  </tbody>\n",
       "</table>\n",
       "</div>"
      ],
      "text/plain": [
       "   id  age    total  mediaType_id mediaSub_id\n",
       "0   1   10  202.230             1            \n",
       "1   2   20  365.400             1            \n",
       "2   3   30  332.688             1            \n",
       "3   4   40  399.249             1            \n",
       "4   5   50  482.904             1            "
      ]
     },
     "execution_count": 4,
     "metadata": {},
     "output_type": "execute_result"
    }
   ],
   "source": [
    "data_age.head()"
   ]
  },
  {
   "cell_type": "code",
   "execution_count": 5,
   "id": "22ce5895",
   "metadata": {},
   "outputs": [
    {
     "data": {
      "text/html": [
       "<div>\n",
       "<style scoped>\n",
       "    .dataframe tbody tr th:only-of-type {\n",
       "        vertical-align: middle;\n",
       "    }\n",
       "\n",
       "    .dataframe tbody tr th {\n",
       "        vertical-align: top;\n",
       "    }\n",
       "\n",
       "    .dataframe thead th {\n",
       "        text-align: right;\n",
       "    }\n",
       "</style>\n",
       "<table border=\"1\" class=\"dataframe\">\n",
       "  <thead>\n",
       "    <tr style=\"text-align: right;\">\n",
       "      <th></th>\n",
       "      <th>id</th>\n",
       "      <th>age</th>\n",
       "      <th>total</th>\n",
       "      <th>mediaType_id</th>\n",
       "      <th>mediaSub_id</th>\n",
       "    </tr>\n",
       "  </thead>\n",
       "  <tbody>\n",
       "    <tr>\n",
       "      <th>0</th>\n",
       "      <td>1</td>\n",
       "      <td>10</td>\n",
       "      <td>202.230</td>\n",
       "      <td>1</td>\n",
       "      <td></td>\n",
       "    </tr>\n",
       "    <tr>\n",
       "      <th>1</th>\n",
       "      <td>2</td>\n",
       "      <td>20</td>\n",
       "      <td>365.400</td>\n",
       "      <td>1</td>\n",
       "      <td></td>\n",
       "    </tr>\n",
       "    <tr>\n",
       "      <th>2</th>\n",
       "      <td>3</td>\n",
       "      <td>30</td>\n",
       "      <td>332.688</td>\n",
       "      <td>1</td>\n",
       "      <td></td>\n",
       "    </tr>\n",
       "    <tr>\n",
       "      <th>3</th>\n",
       "      <td>4</td>\n",
       "      <td>40</td>\n",
       "      <td>399.249</td>\n",
       "      <td>1</td>\n",
       "      <td></td>\n",
       "    </tr>\n",
       "    <tr>\n",
       "      <th>4</th>\n",
       "      <td>5</td>\n",
       "      <td>50</td>\n",
       "      <td>482.904</td>\n",
       "      <td>1</td>\n",
       "      <td></td>\n",
       "    </tr>\n",
       "  </tbody>\n",
       "</table>\n",
       "</div>"
      ],
      "text/plain": [
       "   id  age    total  mediaType_id mediaSub_id\n",
       "0   1   10  202.230             1            \n",
       "1   2   20  365.400             1            \n",
       "2   3   30  332.688             1            \n",
       "3   4   40  399.249             1            \n",
       "4   5   50  482.904             1            "
      ]
     },
     "execution_count": 5,
     "metadata": {},
     "output_type": "execute_result"
    }
   ],
   "source": [
    "for _, item in data_age.iterrows():\n",
    "    # 'mediaSub_id' 열의 NaN 값을 '0'으로 대체\n",
    "    if pd.isna(item['mediaSub_id']):\n",
    "        item['mediaSub_id'] = 0\n",
    "\n",
    "for _, item in data_gender.iterrows():\n",
    "    # 'mediaSub_id' 열의 NaN 값을 '0'으로 대체\n",
    "    if pd.isna(item['mediaSub_id']):\n",
    "        item['mediaSub_id'] = 0\n",
    "        \n",
    "data_age.head()"
   ]
  },
  {
   "cell_type": "code",
   "execution_count": 6,
   "id": "6d09f92e",
   "metadata": {},
   "outputs": [
    {
     "data": {
      "text/html": [
       "<div>\n",
       "<style scoped>\n",
       "    .dataframe tbody tr th:only-of-type {\n",
       "        vertical-align: middle;\n",
       "    }\n",
       "\n",
       "    .dataframe tbody tr th {\n",
       "        vertical-align: top;\n",
       "    }\n",
       "\n",
       "    .dataframe thead th {\n",
       "        text-align: right;\n",
       "    }\n",
       "</style>\n",
       "<table border=\"1\" class=\"dataframe\">\n",
       "  <thead>\n",
       "    <tr style=\"text-align: right;\">\n",
       "      <th></th>\n",
       "      <th>id_x</th>\n",
       "      <th>gender</th>\n",
       "      <th>total_x</th>\n",
       "      <th>mediaType_id</th>\n",
       "      <th>mediaSub_id</th>\n",
       "      <th>id_y</th>\n",
       "      <th>age</th>\n",
       "      <th>total_y</th>\n",
       "    </tr>\n",
       "  </thead>\n",
       "  <tbody>\n",
       "    <tr>\n",
       "      <th>0</th>\n",
       "      <td>1</td>\n",
       "      <td>0</td>\n",
       "      <td>917.988</td>\n",
       "      <td>1</td>\n",
       "      <td></td>\n",
       "      <td>1</td>\n",
       "      <td>10</td>\n",
       "      <td>202.230</td>\n",
       "    </tr>\n",
       "    <tr>\n",
       "      <th>1</th>\n",
       "      <td>1</td>\n",
       "      <td>0</td>\n",
       "      <td>917.988</td>\n",
       "      <td>1</td>\n",
       "      <td></td>\n",
       "      <td>2</td>\n",
       "      <td>20</td>\n",
       "      <td>365.400</td>\n",
       "    </tr>\n",
       "    <tr>\n",
       "      <th>2</th>\n",
       "      <td>1</td>\n",
       "      <td>0</td>\n",
       "      <td>917.988</td>\n",
       "      <td>1</td>\n",
       "      <td></td>\n",
       "      <td>3</td>\n",
       "      <td>30</td>\n",
       "      <td>332.688</td>\n",
       "    </tr>\n",
       "    <tr>\n",
       "      <th>3</th>\n",
       "      <td>1</td>\n",
       "      <td>0</td>\n",
       "      <td>917.988</td>\n",
       "      <td>1</td>\n",
       "      <td></td>\n",
       "      <td>4</td>\n",
       "      <td>40</td>\n",
       "      <td>399.249</td>\n",
       "    </tr>\n",
       "    <tr>\n",
       "      <th>4</th>\n",
       "      <td>1</td>\n",
       "      <td>0</td>\n",
       "      <td>917.988</td>\n",
       "      <td>1</td>\n",
       "      <td></td>\n",
       "      <td>5</td>\n",
       "      <td>50</td>\n",
       "      <td>482.904</td>\n",
       "    </tr>\n",
       "    <tr>\n",
       "      <th>...</th>\n",
       "      <td>...</td>\n",
       "      <td>...</td>\n",
       "      <td>...</td>\n",
       "      <td>...</td>\n",
       "      <td>...</td>\n",
       "      <td>...</td>\n",
       "      <td>...</td>\n",
       "      <td>...</td>\n",
       "    </tr>\n",
       "    <tr>\n",
       "      <th>75</th>\n",
       "      <td>16</td>\n",
       "      <td>1</td>\n",
       "      <td>892.078</td>\n",
       "      <td>6</td>\n",
       "      <td>3</td>\n",
       "      <td>36</td>\n",
       "      <td>10</td>\n",
       "      <td>133.056</td>\n",
       "    </tr>\n",
       "    <tr>\n",
       "      <th>76</th>\n",
       "      <td>16</td>\n",
       "      <td>1</td>\n",
       "      <td>892.078</td>\n",
       "      <td>6</td>\n",
       "      <td>3</td>\n",
       "      <td>37</td>\n",
       "      <td>20</td>\n",
       "      <td>294.000</td>\n",
       "    </tr>\n",
       "    <tr>\n",
       "      <th>77</th>\n",
       "      <td>16</td>\n",
       "      <td>1</td>\n",
       "      <td>892.078</td>\n",
       "      <td>6</td>\n",
       "      <td>3</td>\n",
       "      <td>38</td>\n",
       "      <td>30</td>\n",
       "      <td>311.895</td>\n",
       "    </tr>\n",
       "    <tr>\n",
       "      <th>78</th>\n",
       "      <td>16</td>\n",
       "      <td>1</td>\n",
       "      <td>892.078</td>\n",
       "      <td>6</td>\n",
       "      <td>3</td>\n",
       "      <td>39</td>\n",
       "      <td>40</td>\n",
       "      <td>382.509</td>\n",
       "    </tr>\n",
       "    <tr>\n",
       "      <th>79</th>\n",
       "      <td>16</td>\n",
       "      <td>1</td>\n",
       "      <td>892.078</td>\n",
       "      <td>6</td>\n",
       "      <td>3</td>\n",
       "      <td>40</td>\n",
       "      <td>50</td>\n",
       "      <td>647.064</td>\n",
       "    </tr>\n",
       "  </tbody>\n",
       "</table>\n",
       "<p>80 rows × 8 columns</p>\n",
       "</div>"
      ],
      "text/plain": [
       "    id_x  gender  total_x  mediaType_id mediaSub_id  id_y  age  total_y\n",
       "0      1       0  917.988             1                 1   10  202.230\n",
       "1      1       0  917.988             1                 2   20  365.400\n",
       "2      1       0  917.988             1                 3   30  332.688\n",
       "3      1       0  917.988             1                 4   40  399.249\n",
       "4      1       0  917.988             1                 5   50  482.904\n",
       "..   ...     ...      ...           ...         ...   ...  ...      ...\n",
       "75    16       1  892.078             6           3    36   10  133.056\n",
       "76    16       1  892.078             6           3    37   20  294.000\n",
       "77    16       1  892.078             6           3    38   30  311.895\n",
       "78    16       1  892.078             6           3    39   40  382.509\n",
       "79    16       1  892.078             6           3    40   50  647.064\n",
       "\n",
       "[80 rows x 8 columns]"
      ]
     },
     "execution_count": 6,
     "metadata": {},
     "output_type": "execute_result"
    }
   ],
   "source": [
    "# 두 개의 파일은 mediaType_id, mediuSub_id로 연결할 수 있음\n",
    "user_age_gender = pd.merge(data_gender, data_age, on=[\"mediaType_id\",\"mediaSub_id\"])\n",
    "user_age_gender"
   ]
  },
  {
   "cell_type": "code",
   "execution_count": 7,
   "id": "7ce21a75",
   "metadata": {},
   "outputs": [
    {
     "data": {
      "text/html": [
       "<div>\n",
       "<style scoped>\n",
       "    .dataframe tbody tr th:only-of-type {\n",
       "        vertical-align: middle;\n",
       "    }\n",
       "\n",
       "    .dataframe tbody tr th {\n",
       "        vertical-align: top;\n",
       "    }\n",
       "\n",
       "    .dataframe thead tr th {\n",
       "        text-align: left;\n",
       "    }\n",
       "\n",
       "    .dataframe thead tr:last-of-type th {\n",
       "        text-align: right;\n",
       "    }\n",
       "</style>\n",
       "<table border=\"1\" class=\"dataframe\">\n",
       "  <thead>\n",
       "    <tr>\n",
       "      <th></th>\n",
       "      <th></th>\n",
       "      <th colspan=\"10\" halign=\"left\">total_x</th>\n",
       "      <th colspan=\"10\" halign=\"left\">total_y</th>\n",
       "    </tr>\n",
       "    <tr>\n",
       "      <th></th>\n",
       "      <th>gender</th>\n",
       "      <th colspan=\"5\" halign=\"left\">0</th>\n",
       "      <th colspan=\"5\" halign=\"left\">1</th>\n",
       "      <th colspan=\"5\" halign=\"left\">0</th>\n",
       "      <th colspan=\"5\" halign=\"left\">1</th>\n",
       "    </tr>\n",
       "    <tr>\n",
       "      <th></th>\n",
       "      <th>age</th>\n",
       "      <th>10</th>\n",
       "      <th>20</th>\n",
       "      <th>30</th>\n",
       "      <th>40</th>\n",
       "      <th>50</th>\n",
       "      <th>10</th>\n",
       "      <th>20</th>\n",
       "      <th>30</th>\n",
       "      <th>40</th>\n",
       "      <th>50</th>\n",
       "      <th>10</th>\n",
       "      <th>20</th>\n",
       "      <th>30</th>\n",
       "      <th>40</th>\n",
       "      <th>50</th>\n",
       "      <th>10</th>\n",
       "      <th>20</th>\n",
       "      <th>30</th>\n",
       "      <th>40</th>\n",
       "      <th>50</th>\n",
       "    </tr>\n",
       "    <tr>\n",
       "      <th>mediaType_id</th>\n",
       "      <th>mediaSub_id</th>\n",
       "      <th></th>\n",
       "      <th></th>\n",
       "      <th></th>\n",
       "      <th></th>\n",
       "      <th></th>\n",
       "      <th></th>\n",
       "      <th></th>\n",
       "      <th></th>\n",
       "      <th></th>\n",
       "      <th></th>\n",
       "      <th></th>\n",
       "      <th></th>\n",
       "      <th></th>\n",
       "      <th></th>\n",
       "      <th></th>\n",
       "      <th></th>\n",
       "      <th></th>\n",
       "      <th></th>\n",
       "      <th></th>\n",
       "      <th></th>\n",
       "    </tr>\n",
       "  </thead>\n",
       "  <tbody>\n",
       "    <tr>\n",
       "      <th>1</th>\n",
       "      <th></th>\n",
       "      <td>917.988</td>\n",
       "      <td>917.988</td>\n",
       "      <td>917.988</td>\n",
       "      <td>917.988</td>\n",
       "      <td>917.988</td>\n",
       "      <td>864.386</td>\n",
       "      <td>864.386</td>\n",
       "      <td>864.386</td>\n",
       "      <td>864.386</td>\n",
       "      <td>864.386</td>\n",
       "      <td>202.230</td>\n",
       "      <td>365.4</td>\n",
       "      <td>332.688</td>\n",
       "      <td>399.249</td>\n",
       "      <td>482.904</td>\n",
       "      <td>202.230</td>\n",
       "      <td>365.4</td>\n",
       "      <td>332.688</td>\n",
       "      <td>399.249</td>\n",
       "      <td>482.904</td>\n",
       "    </tr>\n",
       "    <tr>\n",
       "      <th>2</th>\n",
       "      <th></th>\n",
       "      <td>956.406</td>\n",
       "      <td>956.406</td>\n",
       "      <td>956.406</td>\n",
       "      <td>956.406</td>\n",
       "      <td>956.406</td>\n",
       "      <td>899.990</td>\n",
       "      <td>899.990</td>\n",
       "      <td>899.990</td>\n",
       "      <td>899.990</td>\n",
       "      <td>899.990</td>\n",
       "      <td>243.432</td>\n",
       "      <td>452.9</td>\n",
       "      <td>386.463</td>\n",
       "      <td>383.346</td>\n",
       "      <td>391.248</td>\n",
       "      <td>243.432</td>\n",
       "      <td>452.9</td>\n",
       "      <td>386.463</td>\n",
       "      <td>383.346</td>\n",
       "      <td>391.248</td>\n",
       "    </tr>\n",
       "    <tr>\n",
       "      <th>3</th>\n",
       "      <th></th>\n",
       "      <td>2034.132</td>\n",
       "      <td>2034.132</td>\n",
       "      <td>2034.132</td>\n",
       "      <td>2034.132</td>\n",
       "      <td>2034.132</td>\n",
       "      <td>2051.186</td>\n",
       "      <td>2051.186</td>\n",
       "      <td>2051.186</td>\n",
       "      <td>2051.186</td>\n",
       "      <td>2051.186</td>\n",
       "      <td>381.402</td>\n",
       "      <td>734.3</td>\n",
       "      <td>716.283</td>\n",
       "      <td>864.621</td>\n",
       "      <td>1389.888</td>\n",
       "      <td>381.402</td>\n",
       "      <td>734.3</td>\n",
       "      <td>716.283</td>\n",
       "      <td>864.621</td>\n",
       "      <td>1389.888</td>\n",
       "    </tr>\n",
       "    <tr>\n",
       "      <th>4</th>\n",
       "      <th></th>\n",
       "      <td>212.310</td>\n",
       "      <td>212.310</td>\n",
       "      <td>212.310</td>\n",
       "      <td>212.310</td>\n",
       "      <td>212.310</td>\n",
       "      <td>189.888</td>\n",
       "      <td>189.888</td>\n",
       "      <td>189.888</td>\n",
       "      <td>189.888</td>\n",
       "      <td>189.888</td>\n",
       "      <td>38.934</td>\n",
       "      <td>56.0</td>\n",
       "      <td>68.115</td>\n",
       "      <td>96.255</td>\n",
       "      <td>143.640</td>\n",
       "      <td>38.934</td>\n",
       "      <td>56.0</td>\n",
       "      <td>68.115</td>\n",
       "      <td>96.255</td>\n",
       "      <td>143.640</td>\n",
       "    </tr>\n",
       "    <tr>\n",
       "      <th>5</th>\n",
       "      <th></th>\n",
       "      <td>1761.162</td>\n",
       "      <td>1761.162</td>\n",
       "      <td>1761.162</td>\n",
       "      <td>1761.162</td>\n",
       "      <td>1761.162</td>\n",
       "      <td>1863.276</td>\n",
       "      <td>1863.276</td>\n",
       "      <td>1863.276</td>\n",
       "      <td>1863.276</td>\n",
       "      <td>1863.276</td>\n",
       "      <td>317.142</td>\n",
       "      <td>627.2</td>\n",
       "      <td>587.940</td>\n",
       "      <td>789.291</td>\n",
       "      <td>1303.704</td>\n",
       "      <td>317.142</td>\n",
       "      <td>627.2</td>\n",
       "      <td>587.940</td>\n",
       "      <td>789.291</td>\n",
       "      <td>1303.704</td>\n",
       "    </tr>\n",
       "    <tr>\n",
       "      <th rowspan=\"3\" valign=\"top\">6</th>\n",
       "      <th>1</th>\n",
       "      <td>709.722</td>\n",
       "      <td>709.722</td>\n",
       "      <td>709.722</td>\n",
       "      <td>709.722</td>\n",
       "      <td>709.722</td>\n",
       "      <td>719.992</td>\n",
       "      <td>719.992</td>\n",
       "      <td>719.992</td>\n",
       "      <td>719.992</td>\n",
       "      <td>719.992</td>\n",
       "      <td>133.056</td>\n",
       "      <td>235.9</td>\n",
       "      <td>243.063</td>\n",
       "      <td>297.972</td>\n",
       "      <td>518.472</td>\n",
       "      <td>133.056</td>\n",
       "      <td>235.9</td>\n",
       "      <td>243.063</td>\n",
       "      <td>297.972</td>\n",
       "      <td>518.472</td>\n",
       "    </tr>\n",
       "    <tr>\n",
       "      <th>2</th>\n",
       "      <td>709.722</td>\n",
       "      <td>709.722</td>\n",
       "      <td>709.722</td>\n",
       "      <td>709.722</td>\n",
       "      <td>709.722</td>\n",
       "      <td>719.992</td>\n",
       "      <td>719.992</td>\n",
       "      <td>719.992</td>\n",
       "      <td>719.992</td>\n",
       "      <td>719.992</td>\n",
       "      <td>133.056</td>\n",
       "      <td>235.9</td>\n",
       "      <td>243.063</td>\n",
       "      <td>297.972</td>\n",
       "      <td>518.472</td>\n",
       "      <td>133.056</td>\n",
       "      <td>235.9</td>\n",
       "      <td>243.063</td>\n",
       "      <td>297.972</td>\n",
       "      <td>518.472</td>\n",
       "    </tr>\n",
       "    <tr>\n",
       "      <th>3</th>\n",
       "      <td>877.548</td>\n",
       "      <td>877.548</td>\n",
       "      <td>877.548</td>\n",
       "      <td>877.548</td>\n",
       "      <td>877.548</td>\n",
       "      <td>892.078</td>\n",
       "      <td>892.078</td>\n",
       "      <td>892.078</td>\n",
       "      <td>892.078</td>\n",
       "      <td>892.078</td>\n",
       "      <td>133.056</td>\n",
       "      <td>294.0</td>\n",
       "      <td>311.895</td>\n",
       "      <td>382.509</td>\n",
       "      <td>647.064</td>\n",
       "      <td>133.056</td>\n",
       "      <td>294.0</td>\n",
       "      <td>311.895</td>\n",
       "      <td>382.509</td>\n",
       "      <td>647.064</td>\n",
       "    </tr>\n",
       "  </tbody>\n",
       "</table>\n",
       "</div>"
      ],
      "text/plain": [
       "                           total_x                                          \\\n",
       "gender                           0                                           \n",
       "age                             10        20        30        40        50   \n",
       "mediaType_id mediaSub_id                                                     \n",
       "1                          917.988   917.988   917.988   917.988   917.988   \n",
       "2                          956.406   956.406   956.406   956.406   956.406   \n",
       "3                         2034.132  2034.132  2034.132  2034.132  2034.132   \n",
       "4                          212.310   212.310   212.310   212.310   212.310   \n",
       "5                         1761.162  1761.162  1761.162  1761.162  1761.162   \n",
       "6            1             709.722   709.722   709.722   709.722   709.722   \n",
       "             2             709.722   709.722   709.722   709.722   709.722   \n",
       "             3             877.548   877.548   877.548   877.548   877.548   \n",
       "\n",
       "                                                                            \\\n",
       "gender                           1                                           \n",
       "age                             10        20        30        40        50   \n",
       "mediaType_id mediaSub_id                                                     \n",
       "1                          864.386   864.386   864.386   864.386   864.386   \n",
       "2                          899.990   899.990   899.990   899.990   899.990   \n",
       "3                         2051.186  2051.186  2051.186  2051.186  2051.186   \n",
       "4                          189.888   189.888   189.888   189.888   189.888   \n",
       "5                         1863.276  1863.276  1863.276  1863.276  1863.276   \n",
       "6            1             719.992   719.992   719.992   719.992   719.992   \n",
       "             2             719.992   719.992   719.992   719.992   719.992   \n",
       "             3             892.078   892.078   892.078   892.078   892.078   \n",
       "\n",
       "                          total_y                                              \\\n",
       "gender                          0                                           1   \n",
       "age                            10     20       30       40        50       10   \n",
       "mediaType_id mediaSub_id                                                        \n",
       "1                         202.230  365.4  332.688  399.249   482.904  202.230   \n",
       "2                         243.432  452.9  386.463  383.346   391.248  243.432   \n",
       "3                         381.402  734.3  716.283  864.621  1389.888  381.402   \n",
       "4                          38.934   56.0   68.115   96.255   143.640   38.934   \n",
       "5                         317.142  627.2  587.940  789.291  1303.704  317.142   \n",
       "6            1            133.056  235.9  243.063  297.972   518.472  133.056   \n",
       "             2            133.056  235.9  243.063  297.972   518.472  133.056   \n",
       "             3            133.056  294.0  311.895  382.509   647.064  133.056   \n",
       "\n",
       "                                                             \n",
       "gender                                                       \n",
       "age                          20       30       40        50  \n",
       "mediaType_id mediaSub_id                                     \n",
       "1                         365.4  332.688  399.249   482.904  \n",
       "2                         452.9  386.463  383.346   391.248  \n",
       "3                         734.3  716.283  864.621  1389.888  \n",
       "4                          56.0   68.115   96.255   143.640  \n",
       "5                         627.2  587.940  789.291  1303.704  \n",
       "6            1            235.9  243.063  297.972   518.472  \n",
       "             2            235.9  243.063  297.972   518.472  \n",
       "             3            294.0  311.895  382.509   647.064  "
      ]
     },
     "execution_count": 7,
     "metadata": {},
     "output_type": "execute_result"
    }
   ],
   "source": [
    "# pivot 테이블\n",
    "# value에는 rating 값을 cloumn에\n",
    "user_mediaType_total = user_age_gender.pivot_table(\n",
    "    index = [\"mediaType_id\",\"mediaSub_id\"],\n",
    "    columns = [\"gender\",\"age\"],\n",
    "    values = [\"total_x\",\"total_y\"]).fillna(0)\n",
    "user_mediaType_total\n",
    "\n",
    "# total_x : 성별 호감도, total_y : 연령 호감도"
   ]
  },
  {
   "cell_type": "code",
   "execution_count": 8,
   "id": "12d5b215",
   "metadata": {},
   "outputs": [
    {
     "data": {
      "text/plain": [
       "(20, 8)"
      ]
     },
     "execution_count": 8,
     "metadata": {},
     "output_type": "execute_result"
    }
   ],
   "source": [
    "mediaType_user_total = user_mediaType_total.values.T\n",
    "mediaType_user_total.shape  # (20, 8)"
   ]
  },
  {
   "cell_type": "code",
   "execution_count": 9,
   "id": "0d3770b5",
   "metadata": {},
   "outputs": [
    {
     "data": {
      "text/plain": [
       "numpy.ndarray"
      ]
     },
     "execution_count": 9,
     "metadata": {},
     "output_type": "execute_result"
    }
   ],
   "source": [
    "type(mediaType_user_total)  # numpy.ndarray"
   ]
  },
  {
   "cell_type": "code",
   "execution_count": 10,
   "id": "298012ca",
   "metadata": {},
   "outputs": [
    {
     "data": {
      "text/plain": [
       "(20, 8)"
      ]
     },
     "execution_count": 10,
     "metadata": {},
     "output_type": "execute_result"
    }
   ],
   "source": [
    "# SVD 사용\n",
    "SVD = TruncatedSVD(n_components=8)\n",
    "matrix = SVD.fit_transform(mediaType_user_total)\n",
    "matrix.shape"
   ]
  },
  {
   "cell_type": "code",
   "execution_count": 11,
   "id": "fbc1752c",
   "metadata": {},
   "outputs": [
    {
     "data": {
      "text/plain": [
       "array([ 3.28834726e+03, -7.25596673e+01, -2.96482523e+01,  1.51491579e+00,\n",
       "        1.20197083e+00,  4.90749707e-01, -1.26411008e-01,  1.08822082e-14])"
      ]
     },
     "execution_count": 11,
     "metadata": {},
     "output_type": "execute_result"
    }
   ],
   "source": [
    "matrix[0]"
   ]
  },
  {
   "cell_type": "code",
   "execution_count": 12,
   "id": "90b0c1d5",
   "metadata": {},
   "outputs": [],
   "source": [
    "# 피어슨 상관계수를 구함"
   ]
  },
  {
   "cell_type": "code",
   "execution_count": 13,
   "id": "5e4ef179",
   "metadata": {},
   "outputs": [
    {
     "data": {
      "text/plain": [
       "(20, 20)"
      ]
     },
     "execution_count": 13,
     "metadata": {},
     "output_type": "execute_result"
    }
   ],
   "source": [
    "corr = np.corrcoef(matrix)\n",
    "corr.shape"
   ]
  },
  {
   "cell_type": "code",
   "execution_count": 14,
   "id": "10b6928f",
   "metadata": {},
   "outputs": [
    {
     "data": {
      "text/plain": [
       "<Axes: >"
      ]
     },
     "execution_count": 14,
     "metadata": {},
     "output_type": "execute_result"
    },
    {
     "data": {
      "image/png": "[encoded data removed]",
      "text/plain": [
       "<Figure size 1600x1000 with 2 Axes>"
      ]
     },
     "metadata": {},
     "output_type": "display_data"
    }
   ],
   "source": [
    "plt.figure(figsize=(16, 10))\n",
    "sns.heatmap(corr)"
   ]
  },
  {
   "cell_type": "code",
   "execution_count": 15,
   "id": "396729f5",
   "metadata": {},
   "outputs": [
    {
     "data": {
      "text/plain": [
       "[('total_x', 0, 10),\n",
       " ('total_x', 0, 20),\n",
       " ('total_x', 0, 30),\n",
       " ('total_x', 0, 40),\n",
       " ('total_x', 0, 50),\n",
       " ('total_x', 1, 10),\n",
       " ('total_x', 1, 20),\n",
       " ('total_x', 1, 30),\n",
       " ('total_x', 1, 40),\n",
       " ('total_x', 1, 50),\n",
       " ('total_y', 0, 10),\n",
       " ('total_y', 0, 20),\n",
       " ('total_y', 0, 30),\n",
       " ('total_y', 0, 40),\n",
       " ('total_y', 0, 50),\n",
       " ('total_y', 1, 10),\n",
       " ('total_y', 1, 20),\n",
       " ('total_y', 1, 30),\n",
       " ('total_y', 1, 40),\n",
       " ('total_y', 1, 50)]"
      ]
     },
     "execution_count": 15,
     "metadata": {},
     "output_type": "execute_result"
    }
   ],
   "source": [
    "mediaType = user_mediaType_total.columns\n",
    "mediaType_list = list(mediaType)\n",
    "mediaType_list"
   ]
  },
  {
   "cell_type": "code",
   "execution_count": 16,
   "id": "58423a25",
   "metadata": {},
   "outputs": [],
   "source": [
    "target_tuple = ('total_x', 1, 30)\n",
    "corr_media = mediaType_list.index(target_tuple)\n"
   ]
  },
  {
   "cell_type": "code",
   "execution_count": 17,
   "id": "d6c91dbc",
   "metadata": {},
   "outputs": [
    {
     "data": {
      "text/plain": [
       "array([0.99938045, 0.99938045, 0.99938045, 0.99938045, 0.99938045,\n",
       "       1.        , 1.        , 1.        , 1.        , 1.        ,\n",
       "       0.98775548, 0.99216329, 0.99713218, 0.99958697, 0.99329918,\n",
       "       0.98775548, 0.99216329, 0.99713218, 0.99958697, 0.99329918])"
      ]
     },
     "execution_count": 17,
     "metadata": {},
     "output_type": "execute_result"
    }
   ],
   "source": [
    "corr_media_user = corr[corr_media]\n",
    "corr_media_user"
   ]
  },
  {
   "cell_type": "code",
   "execution_count": 18,
   "id": "c2bd5d7f",
   "metadata": {},
   "outputs": [
    {
     "data": {
      "text/plain": [
       "[('total_x', 1, 10),\n",
       " ('total_x', 1, 20),\n",
       " ('total_x', 1, 30),\n",
       " ('total_x', 1, 40),\n",
       " ('total_x', 1, 50),\n",
       " ('total_y', 0, 40),\n",
       " ('total_y', 1, 40)]"
      ]
     },
     "execution_count": 18,
     "metadata": {},
     "output_type": "execute_result"
    }
   ],
   "source": [
    "list(mediaType[(corr_media_user >= 0.9995)])[:10] # 뒤의 숫자 파악해보기"
   ]
  },
  {
   "cell_type": "code",
   "execution_count": null,
   "id": "b4a7f072",
   "metadata": {},
   "outputs": [],
   "source": []
  },
  {
   "cell_type": "code",
   "execution_count": 19,
   "id": "62062281",
   "metadata": {},
   "outputs": [],
   "source": [
    "# 한 사용자에게 개인 추천을 해주기"
   ]
  },
  {
   "cell_type": "code",
   "execution_count": 20,
   "id": "9d3b8398",
   "metadata": {},
   "outputs": [],
   "source": [
    "df_gender = pd.read_csv('./데이터전처리/mediaLikeGender.csv', encoding='cp949', low_memory=False, keep_default_na=False)\n",
    "df_age = pd.read_csv('./데이터전처리/mediaLikeAge.csv', encoding='cp949', low_memory=False, keep_default_na=False)"
   ]
  },
  {
   "cell_type": "code",
   "execution_count": 21,
   "id": "2d026941",
   "metadata": {},
   "outputs": [
    {
     "data": {
      "text/html": [
       "<div>\n",
       "<style scoped>\n",
       "    .dataframe tbody tr th:only-of-type {\n",
       "        vertical-align: middle;\n",
       "    }\n",
       "\n",
       "    .dataframe tbody tr th {\n",
       "        vertical-align: top;\n",
       "    }\n",
       "\n",
       "    .dataframe thead th {\n",
       "        text-align: right;\n",
       "    }\n",
       "</style>\n",
       "<table border=\"1\" class=\"dataframe\">\n",
       "  <thead>\n",
       "    <tr style=\"text-align: right;\">\n",
       "      <th></th>\n",
       "      <th>gender</th>\n",
       "      <th>0</th>\n",
       "      <th>1</th>\n",
       "    </tr>\n",
       "    <tr>\n",
       "      <th>mediaType_id</th>\n",
       "      <th>mediaSub_id</th>\n",
       "      <th></th>\n",
       "      <th></th>\n",
       "    </tr>\n",
       "  </thead>\n",
       "  <tbody>\n",
       "    <tr>\n",
       "      <th>1</th>\n",
       "      <th></th>\n",
       "      <td>917.988</td>\n",
       "      <td>864.386</td>\n",
       "    </tr>\n",
       "    <tr>\n",
       "      <th>2</th>\n",
       "      <th></th>\n",
       "      <td>956.406</td>\n",
       "      <td>899.990</td>\n",
       "    </tr>\n",
       "    <tr>\n",
       "      <th>3</th>\n",
       "      <th></th>\n",
       "      <td>2034.132</td>\n",
       "      <td>2051.186</td>\n",
       "    </tr>\n",
       "    <tr>\n",
       "      <th>4</th>\n",
       "      <th></th>\n",
       "      <td>212.310</td>\n",
       "      <td>189.888</td>\n",
       "    </tr>\n",
       "    <tr>\n",
       "      <th>5</th>\n",
       "      <th></th>\n",
       "      <td>1761.162</td>\n",
       "      <td>1863.276</td>\n",
       "    </tr>\n",
       "    <tr>\n",
       "      <th rowspan=\"3\" valign=\"top\">6</th>\n",
       "      <th>1</th>\n",
       "      <td>709.722</td>\n",
       "      <td>719.992</td>\n",
       "    </tr>\n",
       "    <tr>\n",
       "      <th>2</th>\n",
       "      <td>709.722</td>\n",
       "      <td>719.992</td>\n",
       "    </tr>\n",
       "    <tr>\n",
       "      <th>3</th>\n",
       "      <td>877.548</td>\n",
       "      <td>892.078</td>\n",
       "    </tr>\n",
       "  </tbody>\n",
       "</table>\n",
       "</div>"
      ],
      "text/plain": [
       "gender                           0         1\n",
       "mediaType_id mediaSub_id                    \n",
       "1                          917.988   864.386\n",
       "2                          956.406   899.990\n",
       "3                         2034.132  2051.186\n",
       "4                          212.310   189.888\n",
       "5                         1761.162  1863.276\n",
       "6            1             709.722   719.992\n",
       "             2             709.722   719.992\n",
       "             3             877.548   892.078"
      ]
     },
     "execution_count": 21,
     "metadata": {},
     "output_type": "execute_result"
    }
   ],
   "source": [
    "df_user_media_gender = df_gender.pivot(\n",
    "    index=['mediaType_id', 'mediaSub_id'],\n",
    "    columns='gender',\n",
    "    values='total'\n",
    ").fillna(0)\n",
    "df_user_media_gender"
   ]
  },
  {
   "cell_type": "code",
   "execution_count": null,
   "id": "1afef418",
   "metadata": {},
   "outputs": [],
   "source": []
  },
  {
   "cell_type": "code",
   "execution_count": 22,
   "id": "2bfadad6",
   "metadata": {
    "scrolled": true
   },
   "outputs": [],
   "source": [
    "# matrix는 pivot_table 값을 numpy matrix로 만든 것 \n",
    "matrix = df_user_media_gender.values\n",
    "\n",
    "# gender_total_mean은 사용자의 평균 호감도\n",
    "gender_total_mean = np.mean(matrix, axis = 1)\n",
    "\n",
    "# R_gender_mean : 성별/연령대-매체유형에 대해 사용자의 평균 호감도을 뺀 것.\n",
    "matrix_gender_mean = matrix - gender_total_mean.reshape(-1, 1)"
   ]
  },
  {
   "cell_type": "code",
   "execution_count": 23,
   "id": "5d8f64b5",
   "metadata": {},
   "outputs": [
    {
     "data": {
      "text/plain": [
       "array([[ 917.988,  864.386],\n",
       "       [ 956.406,  899.99 ],\n",
       "       [2034.132, 2051.186],\n",
       "       [ 212.31 ,  189.888],\n",
       "       [1761.162, 1863.276],\n",
       "       [ 709.722,  719.992],\n",
       "       [ 709.722,  719.992],\n",
       "       [ 877.548,  892.078]])"
      ]
     },
     "execution_count": 23,
     "metadata": {},
     "output_type": "execute_result"
    }
   ],
   "source": [
    "matrix"
   ]
  },
  {
   "cell_type": "code",
   "execution_count": 24,
   "id": "cce63b1b",
   "metadata": {},
   "outputs": [
    {
     "data": {
      "text/plain": [
       "(8, 2)"
      ]
     },
     "execution_count": 24,
     "metadata": {},
     "output_type": "execute_result"
    }
   ],
   "source": [
    "matrix.shape"
   ]
  },
  {
   "cell_type": "code",
   "execution_count": 25,
   "id": "c5e9d280",
   "metadata": {},
   "outputs": [
    {
     "data": {
      "text/plain": [
       "(8,)"
      ]
     },
     "execution_count": 25,
     "metadata": {},
     "output_type": "execute_result"
    }
   ],
   "source": [
    "gender_total_mean.shape"
   ]
  },
  {
   "cell_type": "code",
   "execution_count": 26,
   "id": "aa33145c",
   "metadata": {},
   "outputs": [
    {
     "data": {
      "text/plain": [
       "(8, 2)"
      ]
     },
     "execution_count": 26,
     "metadata": {},
     "output_type": "execute_result"
    }
   ],
   "source": [
    "matrix_gender_mean.shape"
   ]
  },
  {
   "cell_type": "code",
   "execution_count": 27,
   "id": "b70cce9f",
   "metadata": {},
   "outputs": [
    {
     "data": {
      "text/html": [
       "<div>\n",
       "<style scoped>\n",
       "    .dataframe tbody tr th:only-of-type {\n",
       "        vertical-align: middle;\n",
       "    }\n",
       "\n",
       "    .dataframe tbody tr th {\n",
       "        vertical-align: top;\n",
       "    }\n",
       "\n",
       "    .dataframe thead th {\n",
       "        text-align: right;\n",
       "    }\n",
       "</style>\n",
       "<table border=\"1\" class=\"dataframe\">\n",
       "  <thead>\n",
       "    <tr style=\"text-align: right;\">\n",
       "      <th>gender</th>\n",
       "      <th>0</th>\n",
       "      <th>1</th>\n",
       "    </tr>\n",
       "  </thead>\n",
       "  <tbody>\n",
       "    <tr>\n",
       "      <th>0</th>\n",
       "      <td>26.801</td>\n",
       "      <td>-26.801</td>\n",
       "    </tr>\n",
       "    <tr>\n",
       "      <th>1</th>\n",
       "      <td>28.208</td>\n",
       "      <td>-28.208</td>\n",
       "    </tr>\n",
       "    <tr>\n",
       "      <th>2</th>\n",
       "      <td>-8.527</td>\n",
       "      <td>8.527</td>\n",
       "    </tr>\n",
       "    <tr>\n",
       "      <th>3</th>\n",
       "      <td>11.211</td>\n",
       "      <td>-11.211</td>\n",
       "    </tr>\n",
       "    <tr>\n",
       "      <th>4</th>\n",
       "      <td>-51.057</td>\n",
       "      <td>51.057</td>\n",
       "    </tr>\n",
       "  </tbody>\n",
       "</table>\n",
       "</div>"
      ],
      "text/plain": [
       "gender       0       1\n",
       "0       26.801 -26.801\n",
       "1       28.208 -28.208\n",
       "2       -8.527   8.527\n",
       "3       11.211 -11.211\n",
       "4      -51.057  51.057"
      ]
     },
     "execution_count": 27,
     "metadata": {},
     "output_type": "execute_result"
    }
   ],
   "source": [
    "pd.DataFrame(matrix_gender_mean, columns = df_user_media_gender.columns).head()"
   ]
  },
  {
   "cell_type": "code",
   "execution_count": null,
   "id": "08b1eac5",
   "metadata": {},
   "outputs": [],
   "source": []
  },
  {
   "cell_type": "code",
   "execution_count": 28,
   "id": "4fa35b56",
   "metadata": {},
   "outputs": [],
   "source": [
    "# scipy에서 제공해주는 svd.  \n",
    "# U 행렬, sigma 행렬, V 전치 행렬을 반환.\n",
    "\n",
    "U, sigma, Vt = svds(matrix_gender_mean, k = 1)"
   ]
  },
  {
   "cell_type": "code",
   "execution_count": 29,
   "id": "2ac722bd",
   "metadata": {},
   "outputs": [
    {
     "name": "stdout",
     "output_type": "stream",
     "text": [
      "(8, 1)\n",
      "(1,)\n",
      "(1, 2)\n"
     ]
    }
   ],
   "source": [
    "print(U.shape)\n",
    "print(sigma.shape)\n",
    "print(Vt.shape)"
   ]
  },
  {
   "cell_type": "code",
   "execution_count": 30,
   "id": "5ea1fd29",
   "metadata": {},
   "outputs": [
    {
     "data": {
      "text/plain": [
       "(1, 1)"
      ]
     },
     "execution_count": 30,
     "metadata": {},
     "output_type": "execute_result"
    }
   ],
   "source": [
    "sigma = np.diag(sigma)\n",
    "sigma.shape"
   ]
  },
  {
   "cell_type": "code",
   "execution_count": 31,
   "id": "93850bc2",
   "metadata": {},
   "outputs": [
    {
     "data": {
      "text/plain": [
       "array([94.07140946])"
      ]
     },
     "execution_count": 31,
     "metadata": {},
     "output_type": "execute_result"
    }
   ],
   "source": [
    "sigma[0]"
   ]
  },
  {
   "cell_type": "code",
   "execution_count": 32,
   "id": "06e28a74",
   "metadata": {},
   "outputs": [],
   "source": [
    "# (1, 1) shape로 대칭 행렬 변환은 알 수 없음"
   ]
  },
  {
   "cell_type": "code",
   "execution_count": 33,
   "id": "c2a0bdf4",
   "metadata": {},
   "outputs": [],
   "source": [
    "# U, Sigma, Vt의 내적을 수행하면, 다시 원본 행렬로 복원이 된다. \n",
    "# 거기에 + 사용자 평균 rating을 적용한다. \n",
    "svd_matrix_gender_predicted = np.dot(np.dot(U, sigma), Vt) + gender_total_mean.reshape(-1, 1)"
   ]
  },
  {
   "cell_type": "code",
   "execution_count": 34,
   "id": "f884b7fa",
   "metadata": {},
   "outputs": [
    {
     "data": {
      "text/html": [
       "<div>\n",
       "<style scoped>\n",
       "    .dataframe tbody tr th:only-of-type {\n",
       "        vertical-align: middle;\n",
       "    }\n",
       "\n",
       "    .dataframe tbody tr th {\n",
       "        vertical-align: top;\n",
       "    }\n",
       "\n",
       "    .dataframe thead th {\n",
       "        text-align: right;\n",
       "    }\n",
       "</style>\n",
       "<table border=\"1\" class=\"dataframe\">\n",
       "  <thead>\n",
       "    <tr style=\"text-align: right;\">\n",
       "      <th>gender</th>\n",
       "      <th>0</th>\n",
       "      <th>1</th>\n",
       "    </tr>\n",
       "  </thead>\n",
       "  <tbody>\n",
       "    <tr>\n",
       "      <th>0</th>\n",
       "      <td>917.988</td>\n",
       "      <td>864.386</td>\n",
       "    </tr>\n",
       "    <tr>\n",
       "      <th>1</th>\n",
       "      <td>956.406</td>\n",
       "      <td>899.990</td>\n",
       "    </tr>\n",
       "    <tr>\n",
       "      <th>2</th>\n",
       "      <td>2034.132</td>\n",
       "      <td>2051.186</td>\n",
       "    </tr>\n",
       "    <tr>\n",
       "      <th>3</th>\n",
       "      <td>212.310</td>\n",
       "      <td>189.888</td>\n",
       "    </tr>\n",
       "    <tr>\n",
       "      <th>4</th>\n",
       "      <td>1761.162</td>\n",
       "      <td>1863.276</td>\n",
       "    </tr>\n",
       "  </tbody>\n",
       "</table>\n",
       "</div>"
      ],
      "text/plain": [
       "gender         0         1\n",
       "0        917.988   864.386\n",
       "1        956.406   899.990\n",
       "2       2034.132  2051.186\n",
       "3        212.310   189.888\n",
       "4       1761.162  1863.276"
      ]
     },
     "execution_count": 34,
     "metadata": {},
     "output_type": "execute_result"
    }
   ],
   "source": [
    "df_svd_preds = pd.DataFrame(svd_matrix_gender_predicted, columns = df_user_media_gender.columns)\n",
    "df_svd_preds.head()"
   ]
  },
  {
   "cell_type": "code",
   "execution_count": 35,
   "id": "cf49cd07",
   "metadata": {},
   "outputs": [
    {
     "data": {
      "text/plain": [
       "(8, 2)"
      ]
     },
     "execution_count": 35,
     "metadata": {},
     "output_type": "execute_result"
    }
   ],
   "source": [
    "df_svd_preds.shape"
   ]
  },
  {
   "cell_type": "code",
   "execution_count": 36,
   "id": "5a17f9b1",
   "metadata": {},
   "outputs": [],
   "source": [
    "# 에러\n",
    "# def recommend_medias(df_svd_preds, user_id, ori_media_df, ori_total_df, num_recommendations=5):\n",
    "    \n",
    "#     media_row_number = user_id - 1 \n",
    "#     sorted_media_predictions = df_svd_preds.iloc[media_row_number].sort_values(ascending=False)\n",
    "    \n",
    "#     media_data = ori_total_df[ori_total_df.id == media_row_number]\n",
    "     \n",
    "#     media_history = media_data.merge(ori_media_df, on = ['mediaType_id', 'mediaSub_id']).sort_values(['mediaType_id', 'mediaSub_id'], ascending=False)\n",
    "    \n",
    "#     recommendations = ori_media_df[~ori_media_df[['mediaType_id', 'mediaSub_id']].isin(media_history['mediaType_id', 'mediaSub_id'])]\n",
    "     \n",
    "#     recommendations = recommendations.merge( pd.DataFrame(sorted_media_predictions).reset_index(), on = ['mediaType_id', 'mediaSub_id'])\n",
    "    \n",
    "#     recommendations = recommendations.rename(columns = {media_row_number: 'Predictions'}).sort_values('Predictions', ascending = False).iloc[:num_recommendations, :]\n",
    "                      \n",
    "#     return media_history, recommendations\n"
   ]
  },
  {
   "cell_type": "code",
   "execution_count": 37,
   "id": "e982b07e",
   "metadata": {},
   "outputs": [],
   "source": [
    "# already_rated, predictions = recommend_medias(df_svd_preds, 2, df_gender, df_age, 10)"
   ]
  },
  {
   "cell_type": "code",
   "execution_count": null,
   "id": "3fc05dfd",
   "metadata": {},
   "outputs": [],
   "source": []
  },
  {
   "cell_type": "code",
   "execution_count": null,
   "id": "eae6807f",
   "metadata": {},
   "outputs": [],
   "source": []
  }
 ],
 "metadata": {
  "kernelspec": {
   "display_name": "Python 3 (ipykernel)",
   "language": "python",
   "name": "python3"
  },
  "language_info": {
   "codemirror_mode": {
    "name": "ipython",
    "version": 3
   },
   "file_extension": ".py",
   "mimetype": "text/x-python",
   "name": "python",
   "nbconvert_exporter": "python",
   "pygments_lexer": "ipython3",
   "version": "3.11.4"
  }
 },
 "nbformat": 4,
 "nbformat_minor": 5
}
